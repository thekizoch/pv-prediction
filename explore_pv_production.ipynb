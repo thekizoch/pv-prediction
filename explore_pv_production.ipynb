{
  "nbformat": 4,
  "nbformat_minor": 0,
  "metadata": {
    "colab": {
      "name": "explore-pv-production.ipynb",
      "provenance": [],
      "authorship_tag": "ABX9TyMdFu02lpEK57PzM5nirM1Q",
      "include_colab_link": true
    },
    "kernelspec": {
      "name": "python3",
      "display_name": "Python 3"
    },
    "language_info": {
      "name": "python"
    }
  },
  "cells": [
    {
      "cell_type": "markdown",
      "metadata": {
        "id": "view-in-github",
        "colab_type": "text"
      },
      "source": [
        "<a href=\"https://colab.research.google.com/github/thekizoch/pv-prediction/blob/main/explore_pv_production.ipynb\" target=\"_parent\"><img src=\"https://colab.research.google.com/assets/colab-badge.svg\" alt=\"Open In Colab\"/></a>"
      ]
    },
    {
      "cell_type": "markdown",
      "metadata": {
        "id": "fH-k8FM4MJUT"
      },
      "source": [
        "# Explore Data\n",
        "The data is from the E.W. Brown Solar Facility from 2016 til 2021.\n",
        "\n",
        "- Each data point is an instantaneous reading at the end of each minute\n",
        "- The kilowatt measurements are net of station use, including equipment, security, and lighting, and will therefore be negative when the sun is not shining. \n",
        "- The kilowatt-hour measurements are net generation sent to the grid, and do not include energy received from the grid while the station was consuming power. \n",
        "- The measurements for ambient conditions, including irradiance and temperature, are average readings for each minute from two non-contiguous weather stations located at the solar facility. "
      ]
    },
    {
      "cell_type": "code",
      "metadata": {
        "colab": {
          "base_uri": "https://localhost:8080/"
        },
        "id": "0suq-SioL8xZ",
        "outputId": "8395bb97-585a-4199-f3df-a2ce375a2c4f"
      },
      "source": [
        "import pandas as pd\n",
        "url = 'https://github.com/thekizoch/pv-prediction/blob/main/data/BS_2016.csv'\n",
        "df = pd.read_csv(url, error_bad_lines=False)"
      ],
      "execution_count": 4,
      "outputs": [
        {
          "output_type": "stream",
          "text": [
            "b'Skipping line 94: expected 1 fields, saw 2\\nSkipping line 113: expected 1 fields, saw 238\\nSkipping line 114: expected 1 fields, saw 2\\nSkipping line 180: expected 1 fields, saw 3\\nSkipping line 192: expected 1 fields, saw 6\\nSkipping line 217: expected 1 fields, saw 4\\nSkipping line 221: expected 1 fields, saw 2\\nSkipping line 238: expected 1 fields, saw 2\\nSkipping line 239: expected 1 fields, saw 2\\nSkipping line 245: expected 1 fields, saw 2\\nSkipping line 248: expected 1 fields, saw 2\\nSkipping line 256: expected 1 fields, saw 4\\nSkipping line 262: expected 1 fields, saw 2\\nSkipping line 267: expected 1 fields, saw 2\\nSkipping line 268: expected 1 fields, saw 2\\nSkipping line 269: expected 1 fields, saw 2\\nSkipping line 270: expected 1 fields, saw 2\\nSkipping line 271: expected 1 fields, saw 2\\nSkipping line 277: expected 1 fields, saw 2\\nSkipping line 278: expected 1 fields, saw 2\\nSkipping line 279: expected 1 fields, saw 2\\nSkipping line 280: expected 1 fields, saw 2\\nSkipping line 287: expected 1 fields, saw 2\\nSkipping line 295: expected 1 fields, saw 4\\nSkipping line 300: expected 1 fields, saw 2\\nSkipping line 303: expected 1 fields, saw 2\\nSkipping line 304: expected 1 fields, saw 2\\nSkipping line 308: expected 1 fields, saw 2\\nSkipping line 328: expected 1 fields, saw 2\\nSkipping line 502: expected 1 fields, saw 6\\nSkipping line 503: expected 1 fields, saw 3\\nSkipping line 510: expected 1 fields, saw 6\\nSkipping line 511: expected 1 fields, saw 6\\nSkipping line 596: expected 1 fields, saw 6\\nSkipping line 605: expected 1 fields, saw 6\\nSkipping line 620: expected 1 fields, saw 6\\nSkipping line 640: expected 1 fields, saw 3\\nSkipping line 649: expected 1 fields, saw 3\\nSkipping line 658: expected 1 fields, saw 3\\nSkipping line 667: expected 1 fields, saw 3\\nSkipping line 676: expected 1 fields, saw 3\\nSkipping line 685: expected 1 fields, saw 3\\nSkipping line 694: expected 1 fields, saw 3\\nSkipping line 703: expected 1 fields, saw 3\\nSkipping line 952: expected 1 fields, saw 7\\nSkipping line 1009: expected 1 fields, saw 2\\nSkipping line 1095: expected 1 fields, saw 2\\nSkipping line 1098: expected 1 fields, saw 2\\nSkipping line 1125: expected 1 fields, saw 2\\nSkipping line 1127: expected 1 fields, saw 2\\nSkipping line 1148: expected 1 fields, saw 2\\nSkipping line 1188: expected 1 fields, saw 2\\nSkipping line 1189: expected 1 fields, saw 6\\nSkipping line 1190: expected 1 fields, saw 6\\nSkipping line 1191: expected 1 fields, saw 6\\nSkipping line 1192: expected 1 fields, saw 6\\nSkipping line 1193: expected 1 fields, saw 3\\nSkipping line 1202: expected 1 fields, saw 6\\nSkipping line 1203: expected 1 fields, saw 6\\nSkipping line 1204: expected 1 fields, saw 6\\nSkipping line 1205: expected 1 fields, saw 6\\nSkipping line 1206: expected 1 fields, saw 6\\nSkipping line 1207: expected 1 fields, saw 3\\n'\n"
          ],
          "name": "stderr"
        }
      ]
    },
    {
      "cell_type": "code",
      "metadata": {
        "id": "IUslF1k8RMlI"
      },
      "source": [
        ""
      ],
      "execution_count": 3,
      "outputs": []
    }
  ]
}